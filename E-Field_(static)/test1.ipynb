{
 "cells": [
  {
   "cell_type": "code",
   "execution_count": 1,
   "id": "ccc1f44d",
   "metadata": {},
   "outputs": [],
   "source": [
    "import numpy\n",
    "from netgen.csg import *\n",
    "from netgen.geom2d import SplineGeometry\n",
    "from ngsolve import *\n",
    "from ngsolve.webgui import Draw"
   ]
  },
  {
   "cell_type": "code",
   "execution_count": 2,
   "id": "6a837b33",
   "metadata": {},
   "outputs": [
    {
     "data": {
      "application/vnd.jupyter.widget-view+json": {
       "model_id": "c6a11c92b87b424681ea997c30917d08",
       "version_major": 2,
       "version_minor": 0
      },
      "text/plain": [
       "WebGuiWidget(layout=Layout(height='500px', width='100%'), value={'gui_settings': {}, 'ngsolve_version': '6.2.2…"
      ]
     },
     "metadata": {},
     "output_type": "display_data"
    },
    {
     "data": {
      "text/plain": [
       "BaseWebGuiScene"
      ]
     },
     "execution_count": 2,
     "metadata": {},
     "output_type": "execute_result"
    }
   ],
   "source": [
    "geo = SplineGeometry()\n",
    "# Define your geometry here (e.g., boundaries, domain, electrodes)\n",
    "p0 = geo.AppendPoint(0,0)\n",
    "p1 = geo.AppendPoint(1,0)\n",
    "p2 = geo.AppendPoint(1,1)\n",
    "p3 = geo.AppendPoint(0,1)\n",
    "\n",
    "line0 = geo.Append(['line', p0, p1], leftdomain=1, rightdomain=0)\n",
    "line1 = geo.Append(['line', p1, p2], leftdomain=1, rightdomain=0)\n",
    "line2 = geo.Append(['line', p2, p3], leftdomain=1, rightdomain=0)\n",
    "line3 = geo.Append(['line', p3, p0], leftdomain=1, rightdomain=0)\n",
    "\n",
    "mesh = Mesh(geo.GenerateMesh(maxh=0.1))\n",
    "Draw(mesh)"
   ]
  },
  {
   "cell_type": "code",
   "execution_count": 70,
   "id": "2cca923b",
   "metadata": {},
   "outputs": [],
   "source": [
    "V = H1(mesh, order=2, dirichlet=\"line0|line1\")  # For the electric potential\n",
    "W = VectorH1(mesh, order=2)  # For the electric field"
   ]
  },
  {
   "cell_type": "code",
   "execution_count": 71,
   "id": "dcb5a178",
   "metadata": {},
   "outputs": [],
   "source": [
    "u = V.TrialFunction()\n",
    "v = V.TestFunction()\n",
    "gfu = GridFunction(V)\n",
    "\n",
    "a = BilinearForm(V)\n",
    "a += grad(u) * grad(v)*dx\n",
    "a.Assemble()\n",
    "\n",
    "# Sources\n",
    "source_location = [0.5,0.5]\n",
    "source_strength = 1e-15\n",
    "source_expr = source_strength * (1 / sqrt((x - source_location[0])**2 + (y - source_location[1])**2))\n",
    "\n",
    "f = LinearForm(V)\n",
    "f += source_expr*v*dx\n",
    "f.Assemble()\n",
    "\n",
    "gfu.vec.data = a.mat.Inverse(freedofs=V.FreeDofs()) * f.vec\n"
   ]
  },
  {
   "cell_type": "code",
   "execution_count": 72,
   "id": "f97d5445",
   "metadata": {},
   "outputs": [
    {
     "data": {
      "application/vnd.jupyter.widget-view+json": {
       "model_id": "6b9bfbf270df42eeb1ca4b515b1b0895",
       "version_major": 2,
       "version_minor": 0
      },
      "text/plain": [
       "WebGuiWidget(layout=Layout(height='500px', width='100%'), value={'gui_settings': {}, 'ngsolve_version': '6.2.2…"
      ]
     },
     "metadata": {},
     "output_type": "display_data"
    },
    {
     "data": {
      "text/plain": [
       "BaseWebGuiScene"
      ]
     },
     "execution_count": 72,
     "metadata": {},
     "output_type": "execute_result"
    }
   ],
   "source": [
    "Draw(gfu)"
   ]
  },
  {
   "cell_type": "code",
   "execution_count": 60,
   "id": "c5cf4ac6",
   "metadata": {},
   "outputs": [],
   "source": [
    "grad_u = GridFunction(W)  # Create a GridFunction for the electric field\n",
    "grad_u.Set(grad(gfu))\n",
    "\n",
    "# Now grad_u contains the electric field"
   ]
  },
  {
   "cell_type": "code",
   "execution_count": null,
   "id": "8d21cbc5",
   "metadata": {},
   "outputs": [],
   "source": []
  },
  {
   "cell_type": "code",
   "execution_count": null,
   "id": "0e6c3348",
   "metadata": {},
   "outputs": [],
   "source": []
  }
 ],
 "metadata": {
  "kernelspec": {
   "display_name": "ngsolve",
   "language": "python",
   "name": "python3"
  },
  "language_info": {
   "codemirror_mode": {
    "name": "ipython",
    "version": 3
   },
   "file_extension": ".py",
   "mimetype": "text/x-python",
   "name": "python",
   "nbconvert_exporter": "python",
   "pygments_lexer": "ipython3",
   "version": "3.10.12"
  }
 },
 "nbformat": 4,
 "nbformat_minor": 5
}
