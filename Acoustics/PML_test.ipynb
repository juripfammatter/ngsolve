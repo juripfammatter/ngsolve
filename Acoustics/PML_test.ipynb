{
 "cells": [
  {
   "cell_type": "code",
   "execution_count": 1,
   "id": "94010aac",
   "metadata": {},
   "outputs": [
    {
     "name": "stdout",
     "output_type": "stream",
     "text": [
      "importing NGSolve-6.2.2204\n"
     ]
    }
   ],
   "source": [
    "from ngsolve import *\n",
    "from ngsolve.webgui import Draw\n",
    "from netgen.geom2d import SplineGeometry, CSG2d , Rectangle\n",
    "import matplotlib.pyplot as plt\n",
    "import numpy as np"
   ]
  },
  {
   "cell_type": "code",
   "execution_count": 2,
   "id": "3f32c157",
   "metadata": {},
   "outputs": [],
   "source": [
    "from ngsolve.comp import pml"
   ]
  },
  {
   "cell_type": "markdown",
   "id": "14642846",
   "metadata": {},
   "source": [
    "### CSG 2D "
   ]
  },
  {
   "cell_type": "code",
   "execution_count": 3,
   "id": "11466f0f",
   "metadata": {},
   "outputs": [
    {
     "data": {
      "application/vnd.jupyter.widget-view+json": {
       "model_id": "019d2e390a5c4124abfddecf3a3ea00a",
       "version_major": 2,
       "version_minor": 0
      },
      "text/plain": [
       "WebGuiWidget(layout=Layout(height='50vh', width='100%'), value={'gui_settings': {}, 'ngsolve_version': '6.2.22…"
      ]
     },
     "metadata": {},
     "output_type": "display_data"
    },
    {
     "data": {
      "text/plain": [
       "BaseWebGuiScene"
      ]
     },
     "execution_count": 3,
     "metadata": {},
     "output_type": "execute_result"
    }
   ],
   "source": [
    "geo = CSG2d ()\n",
    "rect = Rectangle (( -6 , -20) ,(6 ,0) , bc='wall')\n",
    "pmlregion = Rectangle (( -6 , -20) ,(6 ,-22) , bc='pmlregion')\n",
    "hall = rect \n",
    "geo.Add(hall)\n",
    "geo.Add(pmlregion)\n",
    "\n",
    "mesh = Mesh(geo.GenerateMesh (maxh=0.2))\n",
    "\n",
    "f = 5*exp(-10*((x-0.3)*(x-0.3)+(y+10)**2))\n",
    "Draw(f, mesh, 'f')"
   ]
  },
  {
   "cell_type": "code",
   "execution_count": 4,
   "id": "79673822",
   "metadata": {},
   "outputs": [],
   "source": [
    "mesh.SetPML(pml.Cartesian(mins = [-6, -20], maxs = [6, -22],alpha=1j), \"pmlregion\")"
   ]
  },
  {
   "cell_type": "markdown",
   "id": "c3e0c39e",
   "metadata": {},
   "source": [
    "### Spline Geometry Version"
   ]
  },
  {
   "cell_type": "code",
   "execution_count": 77,
   "id": "a56ac490",
   "metadata": {},
   "outputs": [],
   "source": [
    "\n",
    "\n",
    "geo = SplineGeometry()\n",
    "geo.AddRectangle (( -6 , -20) ,(6 ,0) , bc='wall')\n",
    "geo.AddRectangle (( -6 , -20) ,(6 ,-22) , bc='pml')\n",
    "\n",
    "geo.SetMaterial(1, \"inner\")\n",
    "geo.SetMaterial(2, \"pmlregion\")"
   ]
  },
  {
   "cell_type": "code",
   "execution_count": 38,
   "id": "1b0c6458",
   "metadata": {},
   "outputs": [
    {
     "data": {
      "application/vnd.jupyter.widget-view+json": {
       "model_id": "8100023e0854415abaf8e2f4c3b0eea7",
       "version_major": 2,
       "version_minor": 0
      },
      "text/plain": [
       "WebGuiWidget(layout=Layout(height='50vh', width='100%'), value={'gui_settings': {}, 'ngsolve_version': '6.2.22…"
      ]
     },
     "metadata": {},
     "output_type": "display_data"
    },
    {
     "data": {
      "text/plain": [
       "BaseWebGuiScene"
      ]
     },
     "execution_count": 38,
     "metadata": {},
     "output_type": "execute_result"
    }
   ],
   "source": [
    "mesh = Mesh(geo.GenerateMesh (maxh=0.2))\n",
    "mesh.Curve(3)\n",
    "\n",
    "f = 5*exp(-10**2*((x-0.3)*(x-0.3)+(y+10)**2))\n",
    "Draw(f, mesh, 'f')"
   ]
  },
  {
   "cell_type": "code",
   "execution_count": 39,
   "id": "a3f09724",
   "metadata": {},
   "outputs": [
    {
     "data": {
      "text/plain": [
       "('wall',\n",
       " 'wall',\n",
       " 'wall',\n",
       " 'wall',\n",
       " 'pmlregion',\n",
       " 'pmlregion',\n",
       " 'pmlregion',\n",
       " 'pmlregion')"
      ]
     },
     "execution_count": 39,
     "metadata": {},
     "output_type": "execute_result"
    }
   ],
   "source": [
    "mesh.SetPML(pml.Cartesian(mins = [-6, -20], maxs = [6, -22],alpha=1j), \"pmlregion\")\n",
    "mesh.GetBoundaries()"
   ]
  },
  {
   "cell_type": "markdown",
   "id": "53b9277a",
   "metadata": {},
   "source": [
    "### Solution"
   ]
  },
  {
   "cell_type": "code",
   "execution_count": 5,
   "id": "80776bd1",
   "metadata": {},
   "outputs": [
    {
     "data": {
      "application/vnd.jupyter.widget-view+json": {
       "model_id": "03fc277bea834420a30562ac1a23bb18",
       "version_major": 2,
       "version_minor": 0
      },
      "text/plain": [
       "WebGuiWidget(layout=Layout(height='50vh', width='100%'), value={'gui_settings': {}, 'ngsolve_version': '6.2.22…"
      ]
     },
     "metadata": {},
     "output_type": "display_data"
    },
    {
     "data": {
      "text/plain": [
       "BaseWebGuiScene"
      ]
     },
     "execution_count": 5,
     "metadata": {},
     "output_type": "execute_result"
    }
   ],
   "source": [
    "V = H1(mesh, order=4, complex=True)\n",
    "u,v = V.TnT()\n",
    "\n",
    "freq = 100\n",
    "omega = 2*np.pi*freq\n",
    "c0 = 333\n",
    "\n",
    "a = BilinearForm(V)\n",
    "a += c0**2*grad(u)*grad(v)*dx - omega**2*u*v*dx\n",
    "a += -c0**2*1j*omega*u*v*ds(\"pmlregion\")                         #PML\n",
    "\n",
    "b = LinearForm(V)\n",
    "b += f * v * dx\n",
    "\n",
    "a.Assemble()\n",
    "b.Assemble()\n",
    "\n",
    "gfu = GridFunction(V)\n",
    "gfu.vec.data = a.mat.Inverse() * b.vec\n",
    "Draw(gfu)"
   ]
  },
  {
   "cell_type": "code",
   "execution_count": null,
   "id": "f3390a22",
   "metadata": {},
   "outputs": [],
   "source": []
  }
 ],
 "metadata": {
  "kernelspec": {
   "display_name": "Python 3 (ipykernel)",
   "language": "python",
   "name": "python3"
  },
  "language_info": {
   "codemirror_mode": {
    "name": "ipython",
    "version": 3
   },
   "file_extension": ".py",
   "mimetype": "text/x-python",
   "name": "python",
   "nbconvert_exporter": "python",
   "pygments_lexer": "ipython3",
   "version": "3.9.15"
  }
 },
 "nbformat": 4,
 "nbformat_minor": 5
}
