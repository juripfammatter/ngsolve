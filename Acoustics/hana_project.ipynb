{
 "cells": [
  {
   "cell_type": "code",
   "execution_count": 1,
   "metadata": {},
   "outputs": [],
   "source": [
    "import numpy as np\n",
    "import matplotlib.pyplot as plt\n",
    "import time\n",
    "\n",
    "from netgen.geom2d import CSG2d , Rectangle , Circle\n",
    "from ngsolve import *\n",
    "from ngsolve.webgui import Draw"
   ]
  },
  {
   "cell_type": "markdown",
   "metadata": {},
   "source": [
    "# Aufgabe 1 Dirichlet Randbedingung"
   ]
  },
  {
   "cell_type": "markdown",
   "metadata": {},
   "source": [
    "## Ausgangslage und schwache Gleichung"
   ]
  },
  {
   "cell_type": "markdown",
   "metadata": {},
   "source": [
    "Aus der starken Gleichung mit homogener Dirichlet Randbedingung\n",
    "\n",
    "$$\n",
    "\\begin{align} \\frac{\\partial^2 p}{\\partial t^2}(t,x)-c^2\\Delta p(t,x) &= b(t,x)\\hspace{20pt} \\mathrm{in}\\ \\Omega\\\\\n",
    "u(0,x) &= 0\\hspace{20pt} \\mathrm{in}\\ \\Omega\\\\\n",
    "\\dot{u}(0,x) &= 0\\hspace{20pt} \\mathrm{in}\\ \\Omega\\\\\n",
    "u(t,x) &= 0\\hspace{20pt} \\mathrm{auf}\\ \\Gamma_D\\\\\n",
    "b(t,x) &= \\sum_i q_i(t)\\cdot e^{-\\frac{(\\mathbf{x-x}_i)^2}{\\sigma^2}}\n",
    "\\end{align}$$\n",
    "\n",
    "folgt mithilfe der partiellen Integration die schwache Gleichung\n",
    "\n",
    "$$\n",
    "\\begin{align}\n",
    "\\int_\\Omega c^2\\nabla p\\nabla v dx-\\underbrace{\\int_{\\partial \\Omega}c^2 \\partial_n p\\cdot v dS}_{v = 0\\ \\mathrm{auf}\\ \\Gamma_D}+\\int_\\Omega \\partial _{tt} p\\cdot v dx &= \\int_\\Omega b\\cdot v dx\\hspace{8pt} \\forall v \\in V.\\\\\n",
    "\\end{align}$$\n"
   ]
  },
  {
   "cell_type": "markdown",
   "metadata": {},
   "source": [
    "## Geometrie und Mesh\n",
    "\n",
    "Die Schallausbreitung soll in einer Kirche mit folgender Geometrie simuliert werden:"
   ]
  },
  {
   "cell_type": "code",
   "execution_count": 2,
   "metadata": {},
   "outputs": [],
   "source": [
    "#Geometrie Kirche\n",
    "rect = Rectangle (( -6 , -20) ,(6 ,0) , bc='wall')\n",
    "circle = Circle ((0 ,0) ,3 , bc='wall')\n",
    "hall = rect + circle\n",
    "\n",
    "#Säulen\n",
    "saeulen = []\n",
    "nSaeulenReihen = 4\n",
    "for i in range ( nSaeulenReihen ):\n",
    "    saeulen.append ( Circle (( -2. , -20./( nSaeulenReihen +1)*( i+1)) ,0.6 , bc='saeule'))\n",
    "    saeulen.append ( Circle ((2. , -20./( nSaeulenReihen +1)*( i+1)) ,0.6 , bc='saeule'))\n",
    "for s in saeulen :\n",
    "    hall -=s\n",
    "\n",
    "geo = CSG2d ()\n",
    "geo.Add ( hall )\n"
   ]
  },
  {
   "cell_type": "markdown",
   "metadata": {},
   "source": [
    "Das Mesh soll so gewählt werden, dass jede Wellenlänge mit 5 Knotenpunkten aufgelöst wird. Die maximale Elementgrösse $h_{max}$ kann mit\n",
    "\n",
    "$$ \\begin{align} h_{max}=\\frac{c_0}{5\\cdot f_{max}} \\end{align}$$\n",
    "\n",
    "berechnet werden, wobei $c_0$ die Schallausbreitungsgeschwindigkeit in der Luft und $f_{max}$ die maximal auftretende Frequenz beschreibt. Diese Wahl basiert darauf, dass Basisfunktionen 2. Ordnung gewählt werden."
   ]
  },
  {
   "cell_type": "code",
   "execution_count": 3,
   "metadata": {},
   "outputs": [
    {
     "data": {
      "application/vnd.jupyter.widget-view+json": {
       "model_id": "958bda962344407eaf7866ad54b47b33",
       "version_major": 2,
       "version_minor": 0
      },
      "text/plain": [
       "WebGuiWidget(layout=Layout(height='500px', width='100%'), value={'gui_settings': {}, 'ngsolve_version': '6.2.2…"
      ]
     },
     "metadata": {},
     "output_type": "display_data"
    },
    {
     "data": {
      "text/plain": [
       "BaseWebGuiScene"
      ]
     },
     "execution_count": 3,
     "metadata": {},
     "output_type": "execute_result"
    }
   ],
   "source": [
    "#Frequenzabhängiges Mesh\n",
    "freq = 200\n",
    "c0 = 333 \n",
    "maxh = c0/freq/5\n",
    "mesh = Mesh(geo.GenerateMesh(maxh = maxh))\n",
    "Draw(mesh)"
   ]
  },
  {
   "cell_type": "markdown",
   "metadata": {},
   "source": [
    "## Vektorraum\n",
    "Als Vektorraum wird der $H^1$-FE Raum mit Basisfunktionen zweiter Ordnung gewählt. Anschliessend werden die Test- und Trial-Funkionen erstellt. Da in der schwachen Gleichung ein Term mit zweiter zeitlicher Ableitung vorhanden ist, müssen, zusätzlich zur Grid-Function für die Position, Grid-Funktionen für die Schallschnelle und deren Ableitung definiert werden."
   ]
  },
  {
   "cell_type": "code",
   "execution_count": 4,
   "metadata": {},
   "outputs": [
    {
     "name": "stdout",
     "output_type": "stream",
     "text": [
      "Freiheitsgrade: 9783\n"
     ]
    }
   ],
   "source": [
    "V1 = H1(mesh,order = 2, dirichlet='wall|saeule')\n",
    "u1,v1 = V1.TnT()                               #Test and trial\n",
    "\n",
    "gfu1 = GridFunction(V1)\n",
    "gfv1 = GridFunction(V1)                       # 1. Zeitableitung\n",
    "gfa1 = GridFunction(V1)                       # 2. Zeitableitung\n",
    "print('Freiheitsgrade:',V1.ndof)"
   ]
  },
  {
   "cell_type": "markdown",
   "metadata": {},
   "source": [
    "## Newmark Verfahren\n",
    "Für das Newmark Verfahren kann die schwache Gleichung in die Form \n",
    "\n",
    "$$\n",
    "\\begin{align}\n",
    "\\mathbf{M}\\ddot{d}+\\mathbf{C}\\dot{d}+\\mathbf{K}d &= \\mathbf{F}\\\\\n",
    "\\mathbf{K}d &= \\int_\\Omega c_0\\nabla p\\nabla v\\ dx\\\\\n",
    "\\mathbf{C}\\dot{d} &= 0\\\\\n",
    "\\mathbf{M}\\ddot{d} &= \\int_\\Omega \\partial_{tt}p\\cdot v\\ dx\n",
    "\\end{align}$$\n",
    "gebracht werden. $\\mathbf{M}$ beschreibt die Massenmtrix, $\\mathbf{C}$ die viskose Dämpfung (in diesem Beispiel nicht vorhanden), $\\mathbf{K}$ die Steifigkeitsmatrix und $\\mathbf{F}$ einen Vektor mit den verwendeten Quellen.\n",
    "\n",
    "Anschliessend können die Billinearformen $\\mathbf{M}$ und $\\mathbf{K}$ und die Linearform $\\mathbf{F}$ assembliert werden."
   ]
  },
  {
   "cell_type": "code",
   "execution_count": 5,
   "metadata": {},
   "outputs": [],
   "source": [
    "#Steifigkeitsmatrix\n",
    "K1 = BilinearForm(V1)         \n",
    "K1 += c0**2*grad(u1)*grad(v1)*dx\n",
    "K1.Assemble()\n",
    "\n",
    "#Massenmatrix\n",
    "M1 = BilinearForm(V1)\n",
    "M1 += u1*v1*dx\n",
    "M1.Assemble();\n",
    "\n",
    "#Rechte Seite (Monopolquellen)\n",
    "x0= np.array([0,1])\n",
    "y0= np.array([0,1])\n",
    "q0 = np.array([1e7, 1e7])                                        #nicht zu klein wählen\n",
    "sigma =  np.array([0.3, 0.3])\n",
    "f1 = sum(q0[i]*exp(-((x-x0[i])**2+(y-y0[i])**2)/sigma[i]**2) for i in range(0,len(x0)))\n",
    "\n",
    "F1 = LinearForm(V1)\n",
    "F1 += f1*v1*dx\n",
    "F1.Assemble();"
   ]
  },
  {
   "cell_type": "code",
   "execution_count": 6,
   "metadata": {},
   "outputs": [],
   "source": [
    "def solveNewmark(V, gfu, gfv, gfa, F, K, M, mesh, scene, dt, n = 400, impuls = True):\n",
    "    #Trapezverfahren\n",
    "    beta = 1/4\n",
    "    gamma = 1/2\n",
    "    \n",
    "    mstar = K.mat.CreateMatrix()                                                #Neue Matrix\n",
    "    mstar.AsVector().data = M.mat.AsVector() + beta*dt**2 * K.mat.AsVector()    #M*\n",
    "    \n",
    "    # Zeitbereich\n",
    "    t = 0\n",
    "    gfu.vec[:] = 0\n",
    "    gfv.vec[:] = 0\n",
    "    gfa.vec[:] = 0\n",
    "    T = n*dt\n",
    "    \n",
    "    # predictors\n",
    "    utilde = gfu.vec.CreateVector()\n",
    "    vtilde = gfu.vec.CreateVector()\n",
    "    b = gfu.vec.CreateVector()\n",
    "    mip = mesh(0,0)\n",
    "    ui = [gfu(mip)]\n",
    "    ti = [t]\n",
    "    i = 0\n",
    "    p = np.zeros((n,3))\n",
    "    with TaskManager():\n",
    "        while t < T:\n",
    "            #F.Assemble() # muss bei zeitabhängiger Linearform aufgerufen werden.\n",
    "            # predictors berechnnen\n",
    "            utilde.data = gfu.vec + dt * gfv.vec + dt**2/2*(1-2*beta)*gfa.vec\n",
    "            vtilde.data = gfv.vec + (1-gamma)*dt*gfa.vec\n",
    "            \n",
    "            # a neu berechnen\n",
    "            if impuls and t > 1/(2*freq):\n",
    "                b.data = - K.mat*utilde\n",
    "            else:\n",
    "                b.data = F.vec\n",
    "                b.data *= np.sin(2*np.pi*freq*t)**2\n",
    "                b.data -= K.mat*utilde\n",
    "                \n",
    "            gfa.vec.data = mstar.Inverse(freedofs=V.FreeDofs(),inverse='sparsecholesky')*b\n",
    "            \n",
    "            # corrector berechnen\n",
    "            gfu.vec.data = utilde + beta*dt**2*gfa.vec\n",
    "            gfv.vec.data = vtilde + gamma*dt*gfa.vec\n",
    "            \n",
    "            # Redraw\n",
    "            scene.Redraw()\n",
    "            ui.append(gfu(mip))\n",
    "            ti.append(t)\n",
    "            t+=dt\n",
    "\n",
    "            #Funktionswerte\n",
    "            p[i,0]=gfu(mesh(0,0))\n",
    "            p[i,1]=gfu(mesh(0,-2))\n",
    "            p[i,2]=gfu(mesh(0,-8))\n",
    "            i += 1\n",
    "    return p\n",
    "    "
   ]
  },
  {
   "cell_type": "markdown",
   "metadata": {},
   "source": [
    "## Anfangsbedingung\n",
    "Die Ausgangslage zum Zeitpunkt $t=0$ sieht wie folgt aus:"
   ]
  },
  {
   "cell_type": "code",
   "execution_count": 7,
   "metadata": {},
   "outputs": [
    {
     "data": {
      "application/vnd.jupyter.widget-view+json": {
       "model_id": "fcc6ae4448ae4110b4d2abac4e2fd123",
       "version_major": 2,
       "version_minor": 0
      },
      "text/plain": [
       "WebGuiWidget(layout=Layout(height='500px', width='100%'), value={'gui_settings': {}, 'ngsolve_version': '6.2.2…"
      ]
     },
     "metadata": {},
     "output_type": "display_data"
    },
    {
     "data": {
      "text/plain": [
       "BaseWebGuiScene"
      ]
     },
     "execution_count": 7,
     "metadata": {},
     "output_type": "execute_result"
    }
   ],
   "source": [
    "Draw(f1,mesh,'f')"
   ]
  },
  {
   "cell_type": "markdown",
   "metadata": {},
   "source": [
    "## Zeitabhängige Lösung mit Trapezmethode"
   ]
  },
  {
   "cell_type": "code",
   "execution_count": 8,
   "metadata": {},
   "outputs": [],
   "source": [
    "dt=1/(10*freq)*2/4\n",
    "n = 400"
   ]
  },
  {
   "cell_type": "code",
   "execution_count": 9,
   "metadata": {},
   "outputs": [
    {
     "data": {
      "application/vnd.jupyter.widget-view+json": {
       "model_id": "c3565312a2874e8e8bca1bf7ed04ff71",
       "version_major": 2,
       "version_minor": 0
      },
      "text/plain": [
       "WebGuiWidget(layout=Layout(height='500px', width='100%'), value={'gui_settings': {}, 'ngsolve_version': '6.2.2…"
      ]
     },
     "metadata": {},
     "output_type": "display_data"
    }
   ],
   "source": [
    "scene1 = Draw(gfu1,mesh,'u',min = -2, max = 2,autoscale=False)"
   ]
  },
  {
   "cell_type": "code",
   "execution_count": 10,
   "metadata": {},
   "outputs": [],
   "source": [
    "p1 = solveNewmark(V1, gfu1, gfv1, gfa1, F1, K1, M1, mesh, scene1, dt, n)"
   ]
  },
  {
   "cell_type": "markdown",
   "metadata": {},
   "source": [
    "### Schalldruckmessungen im Raum\n",
    "Für beliebige Punkte im Raum kann der Schalldruck für die simulierten Zeitpunkte gemessen und dargestellt werden."
   ]
  },
  {
   "cell_type": "code",
   "execution_count": 11,
   "metadata": {
    "scrolled": false
   },
   "outputs": [
    {
     "data": {
      "image/png": "[encoded data removed]",
      "text/plain": [
       "<Figure size 648x216 with 3 Axes>"
      ]
     },
     "metadata": {
      "needs_background": "light"
     },
     "output_type": "display_data"
    }
   ],
   "source": [
    "fig1, ax1 = plt.subplots(1,3,figsize = (9,3))\n",
    "\n",
    "for i in range(0,3):\n",
    "    ax1[i].plot(p1[:,i])\n",
    "    ax1[i].set(xlabel = \"Step\", ylabel = \"p [$N/m^2}$]\")\n",
    "    ax1[i].grid()\n"
   ]
  },
  {
   "cell_type": "markdown",
   "metadata": {},
   "source": [
    "# Aufgabe 2 Robin Randbedingung"
   ]
  },
  {
   "cell_type": "markdown",
   "metadata": {},
   "source": [
    "## Schwache Gleichung mit Robin Randbedingung"
   ]
  },
  {
   "cell_type": "markdown",
   "metadata": {},
   "source": [
    "Mit der Robin Randbedingung\n",
    "\n",
    "$$\n",
    "\\begin{align}\n",
    "\\partial_n p(t,x) = - \\alpha\\cdot p(t,x)\n",
    "\\end{align}\n",
    "$$\n",
    "\n",
    "kann die schwache Gleichung von \n",
    "\n",
    "$$\n",
    "\\begin{align}\n",
    "\\int_\\Omega c^2\\nabla p\\nabla v dx-\\int_{\\partial \\Omega}c^2 \\partial_n p\\cdot v dS+\\int_\\Omega \\partial _{tt} p\\cdot v dx &= \\int_\\Omega b\\cdot v dx\\hspace{8pt} \\forall v \\in V.\\\\\n",
    "\\end{align}\n",
    "$$\n",
    "\n",
    "in \n",
    "\n",
    "$$\n",
    "\\begin{align}\n",
    "\\int_\\Omega c^2\\nabla p\\nabla v dx-\\int_{\\partial \\Omega}\\alpha c^2 p\\cdot v dS+\\int_\\Omega \\partial _{tt} p\\cdot v dx &= \\int_\\Omega b\\cdot v dx\\hspace{8pt} \\forall v \\in V.\\\\\n",
    "\\end{align}\n",
    "$$\n",
    "\n",
    "umgeschrieben werden."
   ]
  },
  {
   "cell_type": "markdown",
   "metadata": {},
   "source": [
    "## Randbedingungen und Vektorraum\n",
    "Bei diesem Beispiel sollen die Robin Randbedingungen auf den Wänden und Säulen der Kirche angewendet werden."
   ]
  },
  {
   "cell_type": "code",
   "execution_count": 12,
   "metadata": {},
   "outputs": [],
   "source": [
    "#mesh.GetBoundaries();"
   ]
  },
  {
   "cell_type": "markdown",
   "metadata": {},
   "source": [
    "Wie beim ersten Beispiel wird auch hier ein $H^1$-FE Raum zweiter Ordnung verwendet."
   ]
  },
  {
   "cell_type": "code",
   "execution_count": 13,
   "metadata": {},
   "outputs": [
    {
     "name": "stdout",
     "output_type": "stream",
     "text": [
      "Freiheitsgrade: 9783\n"
     ]
    }
   ],
   "source": [
    "V2 = H1(mesh,order = 2)\n",
    "u2,v2 = V2.TnT()                               #Test and trial\n",
    "\n",
    "gfu2 = GridFunction(V2)\n",
    "gfv2 = GridFunction(V2)                       # 1. Zeitableitung\n",
    "gfa2 = GridFunction(V2)                       # 2. Zeitableitung\n",
    "print('Freiheitsgrade:',V2.ndof)"
   ]
  },
  {
   "cell_type": "markdown",
   "metadata": {},
   "source": [
    "## Newmark Verfahren\n",
    "Auch hier wird wieder das oben genannte Newmark Verfahren angewendet."
   ]
  },
  {
   "cell_type": "code",
   "execution_count": 14,
   "metadata": {},
   "outputs": [],
   "source": [
    "alpha = 0.1                      #bei grossen alpha nähert sich die robin randbedingung einer homogenen Dirichlet\n",
    "#Steifigkeitsmatrix\n",
    "K2 = BilinearForm(V2)         \n",
    "K2 += c0**2*grad(u2)*grad(v2)*dx\n",
    "K2 += alpha*c0**(2)*u2*v2*ds(definedon=mesh.Boundaries('wall|saeule'))         #Robin Randbedingung\n",
    "K2.Assemble()\n",
    "\n",
    "#Massenmatrix\n",
    "M2 = BilinearForm(V2)\n",
    "M2 += u2*v2*dx\n",
    "M2.Assemble();\n",
    "\n",
    "#Rechte Seite (Monopolquellen)\n",
    "x0= np.array([0,1])\n",
    "y0= np.array([0,1])\n",
    "q0 = np.array([1e7, 1e7])                                        #nicht zu klein wählen\n",
    "sigma =  np.array([0.3, 0.3])\n",
    "f2 = sum(q0[i]*exp(-((x-x0[i])**2+(y-y0[i])**2)/sigma[i]**2) for i in range(0,len(x0)))\n",
    "\n",
    "F2 = LinearForm(V2)\n",
    "F2 += f2*v2*dx\n",
    "F2.Assemble();"
   ]
  },
  {
   "cell_type": "markdown",
   "metadata": {},
   "source": [
    "## Anfangsbedingung\n",
    "Die Ausgangslage zum Zeitpunkt $t=0$ sieht wie folgt aus:"
   ]
  },
  {
   "cell_type": "code",
   "execution_count": 15,
   "metadata": {},
   "outputs": [
    {
     "data": {
      "application/vnd.jupyter.widget-view+json": {
       "model_id": "08b0b62d3511402c920e5ff705baedcd",
       "version_major": 2,
       "version_minor": 0
      },
      "text/plain": [
       "WebGuiWidget(layout=Layout(height='500px', width='100%'), value={'gui_settings': {}, 'ngsolve_version': '6.2.2…"
      ]
     },
     "metadata": {},
     "output_type": "display_data"
    },
    {
     "data": {
      "text/plain": [
       "BaseWebGuiScene"
      ]
     },
     "execution_count": 15,
     "metadata": {},
     "output_type": "execute_result"
    }
   ],
   "source": [
    "Draw(f2,mesh,'f')"
   ]
  },
  {
   "cell_type": "markdown",
   "metadata": {},
   "source": [
    "## Zeitabhängige Lösung mit Trapezmethode"
   ]
  },
  {
   "cell_type": "code",
   "execution_count": 16,
   "metadata": {},
   "outputs": [],
   "source": [
    "dt=1/(10*freq)*2/4\n",
    "n = 400"
   ]
  },
  {
   "cell_type": "code",
   "execution_count": 17,
   "metadata": {
    "scrolled": false
   },
   "outputs": [
    {
     "data": {
      "application/vnd.jupyter.widget-view+json": {
       "model_id": "2e4bc3cf38bc47e8a34566f6ad0fdfd3",
       "version_major": 2,
       "version_minor": 0
      },
      "text/plain": [
       "WebGuiWidget(layout=Layout(height='500px', width='100%'), value={'gui_settings': {}, 'ngsolve_version': '6.2.2…"
      ]
     },
     "metadata": {},
     "output_type": "display_data"
    }
   ],
   "source": [
    "scene2 = Draw(gfu2,mesh,'u',min = -2, max = 2,autoscale=False)"
   ]
  },
  {
   "cell_type": "code",
   "execution_count": 19,
   "metadata": {},
   "outputs": [],
   "source": [
    "p2 = solveNewmark(V2, gfu2, gfv2, gfa2, F2, K2, M2, mesh, scene2, dt, n)"
   ]
  },
  {
   "cell_type": "markdown",
   "metadata": {},
   "source": [
    "### Schalldruckmessungen im Raum\n",
    "Für beliebige Punkte im Raum kann der Schalldruck für die simulierten Zeitpunkte gemessen und dargestellt werden."
   ]
  },
  {
   "cell_type": "code",
   "execution_count": 20,
   "metadata": {
    "scrolled": true
   },
   "outputs": [
    {
     "data": {
      "image/png": "[encoded data removed]",
      "text/plain": [
       "<Figure size 648x216 with 3 Axes>"
      ]
     },
     "metadata": {
      "needs_background": "light"
     },
     "output_type": "display_data"
    }
   ],
   "source": [
    "fig2, ax2 = plt.subplots(1,3,figsize = (9,3))\n",
    "\n",
    "for i in range(0,3):\n",
    "    ax2[i].plot(p1[:,i], label = \"Reine Dirichlet RB\")\n",
    "    ax2[i].plot(p2[:,i], label = \"Robin RB\")\n",
    "    ax2[i].set(xlabel = \"Step\")\n",
    "    ax2[i].grid()\n",
    "ax2[2].legend(bbox_to_anchor=(1.1, 1.0))\n",
    "ax2[0].set(ylabel = \"p [$N/m^2}$]\");\n"
   ]
  },
  {
   "cell_type": "markdown",
   "metadata": {},
   "source": [
    "# Aufgabe 3 Harmonische Lösung"
   ]
  },
  {
   "cell_type": "markdown",
   "metadata": {},
   "source": [
    "## Schwache Gleichung im Frequenzbereich"
   ]
  },
  {
   "cell_type": "markdown",
   "metadata": {},
   "source": [
    "### Harmonischer Ansatz"
   ]
  },
  {
   "cell_type": "markdown",
   "metadata": {},
   "source": [
    "Für das Ausgangsproblem\n",
    "$$\n",
    "\\begin{align} \n",
    "\\frac{\\partial^2 p}{\\partial t^2}(t,x)-c^2\\Delta p(t,x) &= b(t,x)\\hspace{20pt} \\mathrm{in}\\ \\Omega\\\\\n",
    "\\end{align}\n",
    "$$\n",
    "können Zeit und Ort separiert werden durch den Ansatz für die Lösung:\n",
    "$$\n",
    "\\begin{align}\n",
    "    p(t,x)=e^{j\\omega t}\\tilde{p}(x)\\\\\n",
    "\\end{align}\n",
    "$$\n",
    "Dabei ist $p(t,x)$ wegen der Multiplikation mit $e^{j\\omega t}$ ein komplexer Zeiger, welcher eine harmonische Schwingung über eine Periodendauer $\\frac{2\\pi}{\\omega}$ darstellen kann. Die eigentliche Lösung wird durch die Komplexe Zahl $\\tilde{p}(x)$ beschrieben. Ein komplexer Zeiger könnte auch über einen reellen Skalar und Multiplikation mit $e^{j\\omega t}$ beschrieben werden, jedoch ist die gesuchte Lösung eine Schwingung mit Anfangsauslenkung $\\varphi_{0}$, welche als \n",
    "$$\n",
    "\\begin{align}\n",
    "    \\tilde{p}(x) = x_{0}+iy_{0} = |\\tilde{p}(x)|\\cdot e^{j\\varphi_{0}}\n",
    "\\end{align}\n",
    "$$\n",
    "beschrieben wird, weshalb $p(t,x)$ auch als\n",
    "\n",
    "$$\n",
    "\\begin{align}\n",
    "    p(t,x)=|\\tilde{p}(x)|\\cdot e^{j(\\omega t + \\varphi_{0})}\n",
    "\\end{align}\n",
    "$$\n",
    "\n",
    "geschrieben werden kann.\n"
   ]
  },
  {
   "cell_type": "markdown",
   "metadata": {},
   "source": [
    "Mit dem Ansatz für die Anregung\n",
    "$$\n",
    "\\begin{align}\n",
    "b(t,x)=\\sum_{i} {e^{j\\omega t} e^{-\\frac{(x-x_{i})}{\\sigma^2}}}\n",
    "\\end{align}\n",
    "$$\n",
    "\n",
    "kann schliesslich die harmonische Lösung im Frequenzraum gefunden werden."
   ]
  },
  {
   "cell_type": "markdown",
   "metadata": {},
   "source": [
    "### Formulierung der DGL"
   ]
  },
  {
   "cell_type": "markdown",
   "metadata": {},
   "source": [
    "Es werden $p(t,x)$ und $b(t,x)$ in die gegebene Schallgleichung eingesetzt:"
   ]
  },
  {
   "cell_type": "markdown",
   "metadata": {},
   "source": [
    "$$\n",
    "\\begin{align} \n",
    "\\frac{\\partial^2}{\\partial t^2} \\left[ e^{j\\omega t}\\tilde{p}(x)\\right] -c^2\\Delta \\left[ e^{j\\omega t}\\tilde{p}(x)\\right] &= b(t,x)=\\sum_{i} {e^{j\\omega t} e^{-\\frac{(x-x_{i})}{\\sigma^2}}}\n",
    "\\end{align}\n",
    "$$"
   ]
  },
  {
   "cell_type": "markdown",
   "metadata": {},
   "source": [
    "Durch Anwendung der doppelten zeitlichen Ableitung und des Laplace-Operators folgt:"
   ]
  },
  {
   "cell_type": "markdown",
   "metadata": {},
   "source": [
    "$$\n",
    "\\begin{align} \n",
    "- \\omega ^2 e^{j\\omega t} \\tilde{p}(x)- c^2 e^{j\\omega t} \\Delta \\tilde{p}(x) = e^{j\\omega t} \\sum_{i} {e^{-\\frac{(x-x_{i})}{\\sigma^2}}}\n",
    "\\end{align}\n",
    "$$"
   ]
  },
  {
   "cell_type": "markdown",
   "metadata": {},
   "source": [
    "wobei $e^{j\\omega t}$ als ortsabhängige Funktion vor den Laplace-Operator gezogen werden darf und vor die Summe geschrieben werden kann, da $e^{j\\omega t}$ unabhängig von der Summenvariable $i$ ist. Durch Kürzen folgt die Differentialgleichung im Frequenzbereich:"
   ]
  },
  {
   "cell_type": "markdown",
   "metadata": {},
   "source": [
    "$$\n",
    "\\begin{align} \n",
    "- \\omega ^2 \\tilde{p}(x)- c^2 \\Delta \\tilde{p}(x) =\\sum_{i} {e^{-\\frac{(x-x_{i})}{\\sigma^2}}}\n",
    "\\end{align}\n",
    "$$\n",
    "\n",
    "mit der Robin Randbedingung\n",
    "\n",
    "$$\n",
    "\\begin{align}\n",
    "\\partial_n \\tilde{p}(x) = - \\alpha\\cdot \\tilde{p}(x)\n",
    "\\end{align}\n",
    "$$"
   ]
  },
  {
   "cell_type": "markdown",
   "metadata": {},
   "source": [
    "### Schwache Gleichung"
   ]
  },
  {
   "cell_type": "markdown",
   "metadata": {},
   "source": [
    "Multiplikation mit der Testfunktion $\\tilde{v}$, Integration über den ganzen Raum und Anwendung der partiellen Integration liefert Ausgangsform für die schwache Gleichung:"
   ]
  },
  {
   "cell_type": "markdown",
   "metadata": {},
   "source": [
    "\n",
    "$$\n",
    "\\begin{align}\n",
    "\\int_\\Omega c^2 \\cdot \\nabla \\tilde{p} \\cdot \\nabla \\tilde{v}dx\n",
    "-\\int_{\\Omega} \\omega^{2} \\cdot \\tilde{p} \\cdot \\tilde{v} dx\n",
    "-\\int_{\\partial\\Omega} c^{2} \\cdot \\partial_{n} \\tilde{p} \\cdot \\tilde{v} dS\n",
    "= \\int_{\\Omega}\\sum_{i} e^{- \\frac{(x-x_{i})^2}{\\sigma^2}} \\cdot \\tilde{v} dx\n",
    "\\end{align}\n",
    "$$\n",
    "mit der Robin-Randbedingung:\n",
    "$$\n",
    "\\begin{align}\n",
    "    \\int_{\\partial \\Omega} \\partial_{n} \\tilde{p} \\cdot \\tilde{v} dS \n",
    "    = -\\int_{\\partial \\Omega} \\alpha \\cdot \\tilde{p} \\cdot \\tilde{v}dS\n",
    "\\end{align}\n",
    "$$\n",
    "und schliesslich:\n",
    "$$\n",
    "\\begin{align}\n",
    "\\int_\\Omega c^2 \\cdot \\nabla \\tilde{p} \\cdot \\nabla \\tilde{v}dx\n",
    "-\\int_{\\Omega} \\omega^{2} \\cdot \\tilde{p} \\cdot \\tilde{v} dx\n",
    "+\\int_{\\partial\\Omega} c^{2} \\alpha \\cdot \\tilde{p} \\cdot \\tilde{v} dS\n",
    "=\\int_{\\Omega}\\sum_{i}  e^{- \\frac{(x-x_{i})^2}{\\sigma^2}} \\cdot \\tilde{v} dx\n",
    "\\end{align}\n",
    "$$"
   ]
  },
  {
   "cell_type": "markdown",
   "metadata": {},
   "source": [
    "## Assembling und Lösungsfunktion\n",
    "Die Billinear- und Linearfrom werden gemäss schwacher Gleichung assembliert:"
   ]
  },
  {
   "cell_type": "code",
   "execution_count": 21,
   "metadata": {},
   "outputs": [],
   "source": [
    "def solveHarmonic(gfu_h, V_h, v_h, u_h, mesh_h, omega_h, alpha_h, f_h):    \n",
    "    with TaskManager():\n",
    "        # Bilinearfrom\n",
    "        A_h = BilinearForm(V_h)         \n",
    "        A_h += c0**2*grad(u_h)*grad(v_h)*dx\n",
    "        A_h += -omega_h**2*u_h*v_h*dx\n",
    "        A_h += c0**2*1j*omega_h*alpha_h*u_h*v_h*ds(definedon=mesh_h.Boundaries('wall'))   #Robin-Randbedingung (für komplexes alpha werden die Lösungen komplexwertig)\n",
    "        A_h.Assemble()\n",
    "\n",
    "        # Linearform (Monopolquellen)\n",
    "        F_h = LinearForm(V_h)\n",
    "        F_h += f_h*v_h*dx#('interior')\n",
    "        F_h.Assemble();\n",
    "\n",
    "        # Lösung\n",
    "        gfu_h.vec.data = A_h.mat.Inverse(freedofs=V_h.FreeDofs(), inverse='sparsecholesky')*F_h.vec\n",
    "\n",
    "    return gfu_h"
   ]
  },
  {
   "cell_type": "markdown",
   "metadata": {},
   "source": [
    "## Geometrie und Perfectly Matched Layer"
   ]
  },
  {
   "cell_type": "markdown",
   "metadata": {},
   "source": [
    "In der harmonischen Lösung kann es bei harten Randbedingungen zu einer \"Flutung\" des Raumes mit Schall kommen. Um dies vorzubeugen lohnt es sich, ein \"perfectly matched layer\" einzusetzen. Dieses PML kann vereinfacht als unendlich ausgedehnter Raum interpretiert werden. Wählt man beispielsweise eine rechteckige PML Region, am unteren Ende der Kirche, so hat dies denselben Effekt wie eine offene Tür."
   ]
  },
  {
   "cell_type": "code",
   "execution_count": 22,
   "metadata": {},
   "outputs": [],
   "source": [
    "from netgen.occ import OCCGeometry, Rectangle, Circle, MoveTo, Glue\n",
    "\n",
    "rect = MoveTo(-6,-20).Rectangle(12,20).Face()\n",
    "circle = Circle((0,0),3).Face()\n",
    "hall = rect+circle\n",
    "saeulen = []\n",
    "nSaeulenReihen = 4\n",
    "for i in range(nSaeulenReihen):\n",
    "    saeulen.append(Circle((-2.,-20./(nSaeulenReihen+1)*(i+1)),0.6).Face())\n",
    "    saeulen.append(Circle((2.,-20./(nSaeulenReihen+1)*(i+1)),0.6).Face())\n",
    "for s in saeulen:\n",
    "    hall -= s\n",
    "    \n",
    "rectPML = MoveTo(-3,-22).Rectangle(6,2).Face()\n",
    "\n",
    "#edges\n",
    "hall.edges.name = 'wall'\n",
    "rectPML.edges.name = 'wall'\n",
    "rectPML.edges.Nearest((0,-20)).name = 'interior'\n",
    "\n",
    "#faces\n",
    "hall.faces.name = 'interior'\n",
    "rectPML.faces.name = 'PMLRegion'\n",
    "\n",
    "geo = OCCGeometry(Glue([hall, rectPML]), dim=2)"
   ]
  },
  {
   "cell_type": "markdown",
   "metadata": {},
   "source": [
    "## Randbedingungen und Vektorraum\n",
    "Bei diesem Beispiel sollen die Robin Randbedingungen auf den Wänden und Säulen der Kirche angewendet werden.\n",
    "Wie beim ersten Beispiel wird auch hier ein $H^1$-FE Raum zweiter Ordnung verwendet, jedoch muss hier wegen dem harmonischen Ansatz das complex-Attribut auf \"True\" gesetzt werden."
   ]
  },
  {
   "cell_type": "code",
   "execution_count": 23,
   "metadata": {},
   "outputs": [
    {
     "data": {
      "text/plain": [
       "<ngsolve.comp.Mesh at 0x15f2e7790>"
      ]
     },
     "execution_count": 23,
     "metadata": {},
     "output_type": "execute_result"
    }
   ],
   "source": [
    "# Default-Parameter\n",
    "c0 = 333.\n",
    "f_max = 250\n",
    "f_min = c0/12                       #Wellenlänge kleiner als Raumbreite\n",
    "\n",
    "freq = f_max\n",
    "omega_0 = 2*np.pi*freq\n",
    "\n",
    "\n",
    "# Mesh\n",
    "maxh = c0*2*np.pi/omega_0/5\n",
    "mesh = Mesh(geo.GenerateMesh(maxh = maxh))\n",
    "mesh.Curve(3)"
   ]
  },
  {
   "cell_type": "markdown",
   "metadata": {},
   "source": [
    "### Perfectly Matched Layer (PML)"
   ]
  },
  {
   "cell_type": "code",
   "execution_count": 24,
   "metadata": {},
   "outputs": [],
   "source": [
    "from ngsolve.comp import pml\n",
    "\n",
    "mesh.SetPML(pml.Cartesian(mins = [-3, -20], maxs = [3, -22],alpha=1j), \"PMLRegion\")"
   ]
  },
  {
   "cell_type": "code",
   "execution_count": 25,
   "metadata": {},
   "outputs": [],
   "source": [
    "#mesh.GetMaterials()"
   ]
  },
  {
   "cell_type": "code",
   "execution_count": 26,
   "metadata": {},
   "outputs": [],
   "source": [
    "#mesh.GetBoundaries()"
   ]
  },
  {
   "cell_type": "code",
   "execution_count": 27,
   "metadata": {},
   "outputs": [
    {
     "name": "stdout",
     "output_type": "stream",
     "text": [
      "Freiheitsgrade: 15157\n"
     ]
    }
   ],
   "source": [
    "V3 = H1(mesh,order = 2, complex = True)\n",
    "u3,v3 = V3.TnT()          #Test and trial\n",
    "print('Freiheitsgrade:',V3.ndof)"
   ]
  },
  {
   "cell_type": "markdown",
   "metadata": {},
   "source": [
    "## Anfangswert"
   ]
  },
  {
   "cell_type": "code",
   "execution_count": 28,
   "metadata": {},
   "outputs": [
    {
     "data": {
      "application/vnd.jupyter.widget-view+json": {
       "model_id": "37493ca298a741fdaa65f1cbe78e99f3",
       "version_major": 2,
       "version_minor": 0
      },
      "text/plain": [
       "WebGuiWidget(layout=Layout(height='500px', width='100%'), value={'gui_settings': {}, 'ngsolve_version': '6.2.2…"
      ]
     },
     "metadata": {},
     "output_type": "display_data"
    },
    {
     "data": {
      "text/plain": [
       "BaseWebGuiScene"
      ]
     },
     "execution_count": 28,
     "metadata": {},
     "output_type": "execute_result"
    }
   ],
   "source": [
    "x0= np.array([0,0])\n",
    "y0= np.array([0,-7])\n",
    "q0 = np.array([1e7, 1e7])                                        #nicht zu klein wählen\n",
    "sigma =  np.array([0.3, 0.5])\n",
    "f3 = sum(q0[i]*exp(-((x-x0[i])**2+(y-y0[i])**2)/sigma[i]**2) for i in range(0,len(x0)))\n",
    "\n",
    "Draw(f3,mesh,'f3')"
   ]
  },
  {
   "cell_type": "markdown",
   "metadata": {},
   "source": [
    "## Lösung für verschiedene Parameter"
   ]
  },
  {
   "cell_type": "markdown",
   "metadata": {},
   "source": [
    "### Sweep über $\\alpha$"
   ]
  },
  {
   "cell_type": "markdown",
   "metadata": {},
   "source": [
    "Mit einem Sweep über den Parameter $\\alpha$ kann die Gewichtung zwischen Dirichlet- und Neumann-Anteil der Robin Randbedingung\n",
    "$$\n",
    "\\begin{align}\n",
    "\\partial_n \\tilde{p}(x) + i\\omega\\cdot\\alpha\\cdot \\tilde{p}(x) = 0 \n",
    "\\end{align}\n",
    "$$\n",
    "variiert werden. "
   ]
  },
  {
   "cell_type": "markdown",
   "metadata": {},
   "source": [
    "Für sehr grosse $\\alpha$ gewinnt der Term $\\tilde{p}(x)$ mit der Funktion selber Überhand und wird somit auf dem Rand gleich Null. Dies entspricht homogenen Dirichlet-Randwerten und kann als festes Ende der Schwingung verstanden werden.\n",
    "$$\n",
    "\\begin{align}\n",
    "i\\omega\\cdot\\alpha\\cdot \\tilde{p}(x) \\approx 0 \n",
    "\\end{align}\n",
    "$$"
   ]
  },
  {
   "cell_type": "markdown",
   "metadata": {},
   "source": [
    "Lassen wir $\\alpha$ gegen Null streben, so gewinnt die Normalenableitung die Überhand und wird auf den Rand Null, was einem homogenen Neumann-Rand entspricht. Somit ist die Steigung der Lösungsfuktion auf dem Rand Null, der Funktioswert an sich jedoch im allgemeinen nicht. Dies entspricht einem Ende, welches bis auf die Steigung frei schwingen kann.\n",
    "$$\n",
    "\\begin{align}\n",
    "\\partial_n \\tilde{p}(x) \\approx 0 \n",
    "\\end{align}\n",
    "$$"
   ]
  },
  {
   "cell_type": "code",
   "execution_count": 29,
   "metadata": {},
   "outputs": [
    {
     "data": {
      "application/vnd.jupyter.widget-view+json": {
       "model_id": "0072781e909546268e11f8066395a588",
       "version_major": 2,
       "version_minor": 0
      },
      "text/plain": [
       "WebGuiWidget(layout=Layout(height='500px', width='100%'), value={'gui_settings': {}, 'ngsolve_version': '6.2.2…"
      ]
     },
     "metadata": {},
     "output_type": "display_data"
    }
   ],
   "source": [
    "gfu3 = GridFunction(V3)\n",
    "p3_sol = []\n",
    "\n",
    "scene = Draw(gfu3,mesh,'u', autoscale=True)\n",
    "time.sleep(1)\n",
    "\n",
    "# alpha kann reellwertig gewählt werden, *1j in Funktion implementiert\n",
    "for alpha in np.array([100,10,1,0.8,0.5,0.2,0.1,0.05,0.03])/omega_0:\n",
    "    gfu3 = solveHarmonic(gfu3, V3, v3, u3,mesh, omega_0, alpha, f3)\n",
    "  \n",
    "    p3_sol.append(gfu3(mesh(5,-10)))\n",
    "    \n",
    "    scene.Redraw()\n",
    "        \n",
    "    time.sleep(0.5)\n"
   ]
  },
  {
   "cell_type": "markdown",
   "metadata": {},
   "source": [
    "#### Schalldruckmessungen"
   ]
  },
  {
   "cell_type": "code",
   "execution_count": 30,
   "metadata": {},
   "outputs": [
    {
     "data": {
      "image/png": "[encoded data removed]",
      "text/plain": [
       "<Figure size 432x288 with 1 Axes>"
      ]
     },
     "metadata": {
      "needs_background": "light"
     },
     "output_type": "display_data"
    }
   ],
   "source": [
    "p3_arr = np.zeros(len(p3_sol), dtype = np.complex_);\n",
    "p3_arr = np.asarray(p3_sol);\n",
    "\n",
    "plt.figure(1)\n",
    "plt.plot(abs(p3_arr), label = \"abs(p)\")\n",
    "plt.plot(np.real(p3_arr), \"-.\", label = \"real(p)\")\n",
    "plt.plot(np.imag(p3_arr), \"-.\", label = \"imag(p)\")\n",
    "plt.grid()\n",
    "plt.legend()\n",
    "plt.ylabel(\"Pressure[Pa]\")\n",
    "plt.show()\n"
   ]
  },
  {
   "cell_type": "markdown",
   "metadata": {},
   "source": [
    "### Sweep für die Frequenz (eingeschwungener Zustand)"
   ]
  },
  {
   "cell_type": "code",
   "execution_count": 31,
   "metadata": {},
   "outputs": [
    {
     "data": {
      "application/vnd.jupyter.widget-view+json": {
       "model_id": "f58ace426cc94ecebfd8414acfe22beb",
       "version_major": 2,
       "version_minor": 0
      },
      "text/plain": [
       "WebGuiWidget(layout=Layout(height='500px', width='100%'), value={'gui_settings': {}, 'ngsolve_version': '6.2.2…"
      ]
     },
     "metadata": {},
     "output_type": "display_data"
    }
   ],
   "source": [
    "gfu3 = GridFunction(V3)\n",
    "\n",
    "# alpha kann reellwertig gewählt werden, *1j in Funktion implementiert\n",
    "alpha_0 = 0.1/omega_0\n",
    "\n",
    "omega =  2*np.pi*np.linspace(f_min,f_max,10).astype(int)\n",
    "\n",
    "scene = Draw(gfu3,mesh,'u', autoscale=True)\n",
    "time.sleep(1)\n",
    "\n",
    "p_int = []\n",
    "\n",
    "for omegai in omega:\n",
    "    gfu3 = solveHarmonic(gfu3, V3, v3, u3,mesh, omegai, alpha_0, f3)    # solve\n",
    "    scene.Redraw()\n",
    "    \n",
    "    time.sleep(0.2)\n",
    "    \n",
    "    # Integration des Druckes\n",
    "    p_int.append(Integrate(gfu3.real**2,mesh)**(0.5))\n",
    "    "
   ]
  },
  {
   "cell_type": "markdown",
   "metadata": {},
   "source": [
    "#### Spektrum der 2-Norm des Schalldrucks "
   ]
  },
  {
   "cell_type": "code",
   "execution_count": 32,
   "metadata": {},
   "outputs": [
    {
     "data": {
      "image/png": "[encoded data removed]",
      "text/plain": [
       "<Figure size 432x288 with 1 Axes>"
      ]
     },
     "metadata": {
      "needs_background": "light"
     },
     "output_type": "display_data"
    }
   ],
   "source": [
    "plt.plot(omega/(2*np.pi),p_int)\n",
    "plt.grid()\n",
    "plt.ylabel(\"∫$p^2dA ^{1/2}$\")\n",
    "plt.show()"
   ]
  },
  {
   "cell_type": "markdown",
   "metadata": {},
   "source": [
    "#### Auswertung einer spezifischen Frequenz"
   ]
  },
  {
   "cell_type": "code",
   "execution_count": 33,
   "metadata": {
    "scrolled": false
   },
   "outputs": [
    {
     "data": {
      "application/vnd.jupyter.widget-view+json": {
       "model_id": "e1674f570d424611986f8e7947c55827",
       "version_major": 2,
       "version_minor": 0
      },
      "text/plain": [
       "WebGuiWidget(layout=Layout(height='500px', width='100%'), value={'gui_settings': {}, 'ngsolve_version': '6.2.2…"
      ]
     },
     "metadata": {},
     "output_type": "display_data"
    },
    {
     "data": {
      "text/plain": [
       "BaseWebGuiScene"
      ]
     },
     "execution_count": 33,
     "metadata": {},
     "output_type": "execute_result"
    }
   ],
   "source": [
    "gfu3 = GridFunction(V3)\n",
    "freq = 100\n",
    "omega = 2*np.pi*freq\n",
    "alpha = 0.1/omega\n",
    "gfu3 = solveHarmonic(gfu3, V3, v3, u3, mesh, omega,alpha, f3)\n",
    "Draw(gfu3, mesh)"
   ]
  },
  {
   "cell_type": "markdown",
   "metadata": {},
   "source": [
    "# Vergleich mit Lösung im Zeitbereich"
   ]
  },
  {
   "cell_type": "code",
   "execution_count": 34,
   "metadata": {},
   "outputs": [],
   "source": [
    "from netgen.geom2d import CSG2d , Rectangle , Circle\n",
    "#Geometrie Kirche\n",
    "rect = Rectangle (( -6 , -20) ,(6 ,0) , bc='wall')\n",
    "circle = Circle ((0 ,0) ,3 , bc='wall')\n",
    "hall = rect + circle\n",
    "\n",
    "#Säulen\n",
    "saeulen = []\n",
    "nSaeulenReihen = 4\n",
    "for i in range ( nSaeulenReihen ):\n",
    "    saeulen.append ( Circle (( -2. , -20./( nSaeulenReihen +1)*( i+1)) ,0.6 , bc='wall'))\n",
    "    saeulen.append ( Circle ((2. , -20./( nSaeulenReihen +1)*( i+1)) ,0.6 , bc='wall'))\n",
    "for s in saeulen :\n",
    "    hall -=s\n",
    "\n",
    "geo = CSG2d ()\n",
    "geo.Add ( hall )"
   ]
  },
  {
   "cell_type": "code",
   "execution_count": 35,
   "metadata": {},
   "outputs": [
    {
     "data": {
      "application/vnd.jupyter.widget-view+json": {
       "model_id": "106378d4c21448d9af5cc19ca896ba03",
       "version_major": 2,
       "version_minor": 0
      },
      "text/plain": [
       "WebGuiWidget(layout=Layout(height='500px', width='100%'), value={'gui_settings': {}, 'ngsolve_version': '6.2.2…"
      ]
     },
     "metadata": {},
     "output_type": "display_data"
    },
    {
     "data": {
      "text/plain": [
       "BaseWebGuiScene"
      ]
     },
     "execution_count": 35,
     "metadata": {},
     "output_type": "execute_result"
    }
   ],
   "source": [
    "#Frequenzabhängiges Mesh\n",
    "freq = 100\n",
    "c0 = 333 \n",
    "maxh = c0/freq/10\n",
    "mesh4 = Mesh(geo.GenerateMesh(maxh = maxh))\n",
    "Draw(mesh4)"
   ]
  },
  {
   "cell_type": "code",
   "execution_count": 36,
   "metadata": {},
   "outputs": [
    {
     "name": "stdout",
     "output_type": "stream",
     "text": [
      "Freiheitsgrade: 9783\n"
     ]
    }
   ],
   "source": [
    "V4 = H1(mesh4,order = 2)\n",
    "u4,v4 = V4.TnT()                               #Test and trial\n",
    "\n",
    "gfu4 = GridFunction(V4)\n",
    "gfv4 = GridFunction(V4)                       # 1. Zeitableitung\n",
    "gfa4 = GridFunction(V4)                       # 2. Zeitableitung\n",
    "print('Freiheitsgrade:',V4.ndof)"
   ]
  },
  {
   "cell_type": "code",
   "execution_count": 37,
   "metadata": {},
   "outputs": [],
   "source": [
    "alpha4 = 4                     #bei grossen alpha nähert sich die robin randbedingung einer homogenen Dirichlet\n",
    "#Steifigkeitsmatrix\n",
    "K4 = BilinearForm(V4)         \n",
    "K4 += c0**2*grad(u4)*grad(v4)*dx\n",
    "K4 += alpha4*c0**(2)*u4*v4*ds(definedon=mesh4.Boundaries('wall'))         #Robin Randbedingung\n",
    "K4.Assemble()\n",
    "\n",
    "#Massenmatrix\n",
    "M4 = BilinearForm(V4)\n",
    "M4 += u4*v4*dx\n",
    "M4.Assemble();\n",
    "\n",
    "#Rechte Seite (Monopolquellen)\n",
    "x0= np.array([0])\n",
    "y0= np.array([0])\n",
    "q0 = np.array([1e7])                                        #nicht zu klein wählen\n",
    "sigma =  np.array([0.3])\n",
    "f4 = sum(q0[i]*exp(-((x-x0[i])**2+(y-y0[i])**2)/sigma[i]**2) for i in range(0,len(x0)))\n",
    "\n",
    "F4 = LinearForm(V4)\n",
    "F4 += f4*v4*dx\n",
    "F4.Assemble();"
   ]
  },
  {
   "cell_type": "code",
   "execution_count": 38,
   "metadata": {},
   "outputs": [
    {
     "data": {
      "application/vnd.jupyter.widget-view+json": {
       "model_id": "69665e578f2447e88c64b8df89e5f07a",
       "version_major": 2,
       "version_minor": 0
      },
      "text/plain": [
       "WebGuiWidget(layout=Layout(height='500px', width='100%'), value={'gui_settings': {}, 'ngsolve_version': '6.2.2…"
      ]
     },
     "metadata": {},
     "output_type": "display_data"
    },
    {
     "data": {
      "text/plain": [
       "BaseWebGuiScene"
      ]
     },
     "execution_count": 38,
     "metadata": {},
     "output_type": "execute_result"
    }
   ],
   "source": [
    "Draw(f4,mesh4,'f')"
   ]
  },
  {
   "cell_type": "code",
   "execution_count": 39,
   "metadata": {},
   "outputs": [
    {
     "data": {
      "text/plain": [
       "0.0002"
      ]
     },
     "execution_count": 39,
     "metadata": {},
     "output_type": "execute_result"
    }
   ],
   "source": [
    "dt4=1/(10*freq)*2/10\n",
    "n4 = 1000\n",
    "dt4"
   ]
  },
  {
   "cell_type": "code",
   "execution_count": 42,
   "metadata": {},
   "outputs": [
    {
     "data": {
      "application/vnd.jupyter.widget-view+json": {
       "model_id": "dc13c19194714dfea4100861e69ff810",
       "version_major": 2,
       "version_minor": 0
      },
      "text/plain": [
       "WebGuiWidget(layout=Layout(height='500px', width='100%'), value={'gui_settings': {}, 'ngsolve_version': '6.2.2…"
      ]
     },
     "metadata": {},
     "output_type": "display_data"
    }
   ],
   "source": [
    "scene4 = Draw(gfu4,mesh4,'u4',min = -5, max = 5,autoscale=False)"
   ]
  },
  {
   "cell_type": "code",
   "execution_count": 43,
   "metadata": {},
   "outputs": [],
   "source": [
    "p4 = solveNewmark(V4, gfu4, gfv4, gfa4, F4, K4, M4, mesh4, scene4, dt4, n4, impuls = False)"
   ]
  },
  {
   "cell_type": "markdown",
   "metadata": {},
   "source": [
    "##  Harmonische Lösung"
   ]
  },
  {
   "cell_type": "code",
   "execution_count": 44,
   "metadata": {},
   "outputs": [
    {
     "name": "stdout",
     "output_type": "stream",
     "text": [
      "Freiheitsgrade: 9783\n"
     ]
    }
   ],
   "source": [
    "V5 = H1(mesh4,order = 2, complex = True)\n",
    "u5,v5 = V5.TnT()          #Test and trial\n",
    "print('Freiheitsgrade:',V5.ndof)"
   ]
  },
  {
   "cell_type": "code",
   "execution_count": 45,
   "metadata": {},
   "outputs": [
    {
     "data": {
      "application/vnd.jupyter.widget-view+json": {
       "model_id": "5e1cdcc9d43348d788ec9f2b39247b30",
       "version_major": 2,
       "version_minor": 0
      },
      "text/plain": [
       "WebGuiWidget(layout=Layout(height='500px', width='100%'), value={'gui_settings': {}, 'ngsolve_version': '6.2.2…"
      ]
     },
     "metadata": {},
     "output_type": "display_data"
    },
    {
     "data": {
      "text/plain": [
       "BaseWebGuiScene"
      ]
     },
     "execution_count": 45,
     "metadata": {},
     "output_type": "execute_result"
    }
   ],
   "source": [
    "gfu5 = GridFunction(V5)\n",
    "omega5 = freq*2*np.pi\n",
    "alpha5 = alpha4/omega5\n",
    "gfu5 = solveHarmonic(gfu5, V5, v5, u5, mesh4, omega5, alpha5, f4)\n",
    "Draw(gfu5, mesh4,min = -5, max = 5,autoscale=True)"
   ]
  },
  {
   "attachments": {},
   "cell_type": "markdown",
   "metadata": {},
   "source": [
    "Wenn man nun die phasenverschobene harmonische Lösung mit der Zeitsimulation vergleicht, so lässt es sich zeigen, dass beide Lösungsansätze beinahe zum gleichen Ziel führen. Es scheint jedoch einen Unterschied in den Randbedingungen zu geben, welcher zwangsläufig zu unterschiedlichen Resultaten führt. "
   ]
  }
 ],
 "metadata": {
  "kernelspec": {
   "display_name": "Python 3 (ipykernel)",
   "language": "python",
   "name": "python3"
  },
  "language_info": {
   "codemirror_mode": {
    "name": "ipython",
    "version": 3
   },
   "file_extension": ".py",
   "mimetype": "text/x-python",
   "name": "python",
   "nbconvert_exporter": "python",
   "pygments_lexer": "ipython3",
   "version": "3.10.12"
  },
  "vscode": {
   "interpreter": {
    "hash": "bc6c7e1d2683fc5900f62cd36330bb77a64eb9dd576ebca42d0e4ef355f8841b"
   }
  }
 },
 "nbformat": 4,
 "nbformat_minor": 2
}
