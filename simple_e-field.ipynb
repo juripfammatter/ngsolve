{
 "cells": [
  {
   "cell_type": "code",
   "execution_count": 1,
   "metadata": {},
   "outputs": [],
   "source": [
    "from ngsolve import *\n",
    "from ngsolve.webgui import Draw\n",
    "from netgen.geom2d import SplineGeometry"
   ]
  },
  {
   "cell_type": "code",
   "execution_count": 23,
   "metadata": {},
   "outputs": [
    {
     "data": {
      "application/vnd.jupyter.widget-view+json": {
       "model_id": "0016fe437b324c07907fa86c56f76da1",
       "version_major": 2,
       "version_minor": 0
      },
      "text/plain": [
       "WebGuiWidget(layout=Layout(height='500px', width='100%'), value={'gui_settings': {}, 'ngsolve_version': '6.2.2…"
      ]
     },
     "metadata": {},
     "output_type": "display_data"
    },
    {
     "data": {
      "text/plain": [
       "BaseWebGuiScene"
      ]
     },
     "execution_count": 23,
     "metadata": {},
     "output_type": "execute_result"
    }
   ],
   "source": [
    "geo = SplineGeometry()\n",
    "\n",
    "# unit square\n",
    "geo.AddRectangle((0,0),(1,1), leftdomain=1, rightdomain=0, bc=\"border\")\n",
    "\n",
    "# metal\n",
    "# geo.AddCircle((0.7,0.5), 0.1, leftdomain = 2, rightdomain=1, bc=\"metal\")\n",
    "# geo.Append([\"spline3\",(0.7,0.7),(0.8,0.7),(0.9,0.7)], bc=\"metal\")\n",
    "p0 = geo.AppendPoint(0.7,0.7)\n",
    "c0 = geo.AppendPoint(0.7,0.8)\n",
    "p1 = geo.AppendPoint(0.8,0.8)\n",
    "c1 = geo.AppendPoint(0.9,0.8)\n",
    "p2 = geo.AppendPoint(0.9,0.7)\n",
    "p3 = geo.AppendPoint(0.9,0.3)\n",
    "c3 = geo.AppendPoint(0.9,0.2)\n",
    "p4 = geo.AppendPoint(0.8,0.2)\n",
    "c4 = geo.AppendPoint(0.7,0.2)\n",
    "p5 = geo.AppendPoint(0.7,0.3)\n",
    "\n",
    "geo.Append([\"spline3\",p0,c0,p1],leftdomain = 1, rightdomain=1, bc=\"metal\")\n",
    "geo.Append([\"spline3\",p1,c1,p2],leftdomain = 1, rightdomain=1, bc=\"metal\")\n",
    "geo.Append([\"line\",p2,p3],leftdomain = 1, rightdomain=1, bc=\"metal\")\n",
    "geo.Append([\"spline3\",p3,c3,p4],leftdomain = 1, rightdomain=1, bc=\"metal\")\n",
    "geo.Append([\"spline3\",p4,c4,p5],leftdomain = 1, rightdomain=1, bc=\"metal\")\n",
    "geo.Append([\"line\",p5,p0],leftdomain = 1, rightdomain=1, bc=\"metal\")\n",
    "\n",
    "#source1 = geo.AddPoint(0.5, 0.55)\n",
    "#source2 = geo.AddPoint(0.5, 0.45)\n",
    "\n",
    "mesh = Mesh(geo.GenerateMesh(maxh=0.005))\n",
    "Draw(mesh)"
   ]
  },
  {
   "cell_type": "code",
   "execution_count": 24,
   "metadata": {},
   "outputs": [],
   "source": [
    "V = H1(mesh, order=2, dirichlet=\"bottom|right|top|left|metal\")\n",
    "u, v = V.TnT()\n",
    "gfu = GridFunction(V)  # solution"
   ]
  },
  {
   "cell_type": "code",
   "execution_count": 25,
   "metadata": {},
   "outputs": [
    {
     "data": {
      "application/vnd.jupyter.widget-view+json": {
       "model_id": "c6fb897a9e5a4c6584a814b5cd93d391",
       "version_major": 2,
       "version_minor": 0
      },
      "text/plain": [
       "WebGuiWidget(layout=Layout(height='500px', width='100%'), value={'gui_settings': {}, 'ngsolve_version': '6.2.2…"
      ]
     },
     "metadata": {},
     "output_type": "display_data"
    },
    {
     "data": {
      "text/plain": [
       "<ngsolve.comp.LinearForm at 0x12fe518b0>"
      ]
     },
     "execution_count": 25,
     "metadata": {},
     "output_type": "execute_result"
    }
   ],
   "source": [
    "# Left hand side (Grad)\n",
    "a = BilinearForm(V)\n",
    "a += grad(u)*grad(v)*dx\n",
    "a.Assemble()\n",
    "\n",
    "# Right hand side (sources)\n",
    "# charge_location = (0.5, 0.5)\n",
    "# charge_strength = 1.0\n",
    "# charge_density = CoefficientFunction(lambda x: charge_strength if (x[0], x[1]) == charge_location else 0)\n",
    "cf = CoefficientFunction(1/sqrt((x-0.5)**2+(y-0.55)**2)-1/sqrt((x-0.5)**2+(y-0.45)**2))\n",
    "Draw(cf, mesh)\n",
    "\n",
    "f = LinearForm(V)\n",
    "f += cf*v*dx\n",
    "#f += 1*v*ds(definedon=\"metal\")\n",
    "f.Assemble()"
   ]
  },
  {
   "cell_type": "code",
   "execution_count": 27,
   "metadata": {},
   "outputs": [
    {
     "data": {
      "application/vnd.jupyter.widget-view+json": {
       "model_id": "553701707a8648afa3644bc8e1a68746",
       "version_major": 2,
       "version_minor": 0
      },
      "text/plain": [
       "WebGuiWidget(layout=Layout(height='500px', width='100%'), value={'gui_settings': {}, 'ngsolve_version': '6.2.2…"
      ]
     },
     "metadata": {},
     "output_type": "display_data"
    },
    {
     "data": {
      "application/vnd.jupyter.widget-view+json": {
       "model_id": "d7cd94eb1d714adeacaf691eaa584a93",
       "version_major": 2,
       "version_minor": 0
      },
      "text/plain": [
       "WebGuiWidget(layout=Layout(height='500px', width='100%'), value={'gui_settings': {}, 'ngsolve_version': '6.2.2…"
      ]
     },
     "metadata": {},
     "output_type": "display_data"
    },
    {
     "data": {
      "text/plain": [
       "BaseWebGuiScene"
      ]
     },
     "execution_count": 27,
     "metadata": {},
     "output_type": "execute_result"
    }
   ],
   "source": [
    "gfu.vec.data = a.mat.Inverse(freedofs=V.FreeDofs()) * f.vec\n",
    "Draw(gfu)\n",
    "\n",
    "Draw(-grad(gfu), mesh, vectors= { \"grid_size\" : 40})"
   ]
  },
  {
   "cell_type": "code",
   "execution_count": null,
   "metadata": {},
   "outputs": [],
   "source": []
  }
 ],
 "metadata": {
  "kernelspec": {
   "display_name": "ngsolve",
   "language": "python",
   "name": "python3"
  },
  "language_info": {
   "codemirror_mode": {
    "name": "ipython",
    "version": 3
   },
   "file_extension": ".py",
   "mimetype": "text/x-python",
   "name": "python",
   "nbconvert_exporter": "python",
   "pygments_lexer": "ipython3",
   "version": "3.10.12"
  },
  "orig_nbformat": 4
 },
 "nbformat": 4,
 "nbformat_minor": 2
}
